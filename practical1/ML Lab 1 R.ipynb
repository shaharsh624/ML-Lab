{
 "cells": [
  {
   "cell_type": "code",
   "execution_count": 1,
   "id": "dbcd857b-a5e0-41f7-a634-87ec704f16d6",
   "metadata": {
    "vscode": {
     "languageId": "r"
    }
   },
   "outputs": [
    {
     "ename": "ERROR",
     "evalue": "Error in library(tidyverse): there is no package called 'tidyverse'\n",
     "output_type": "error",
     "traceback": [
      "Error in library(tidyverse): there is no package called 'tidyverse'\nTraceback:\n",
      "1. library(tidyverse)"
     ]
    }
   ],
   "source": [
    "# Load necessary libraries\n",
    "library(tidyverse)\n",
    "library(ggplot2)\n",
    "library(gridExtra)\n",
    "\n"
   ]
  },
  {
   "cell_type": "code",
   "execution_count": 3,
   "id": "3f6cccff",
   "metadata": {
    "vscode": {
     "languageId": "r"
    }
   },
   "outputs": [
    {
     "name": "stderr",
     "output_type": "stream",
     "text": [
      "Warning message:\n",
      "\"dependencies 'MASS', 'Matrix', 'evaluate', 'lattice' are not available\"\n",
      "also installing the dependencies 'fastmap', 'colorspace', 'sys', 'bit', 'ps', 'sass', 'cachem', 'nlme', 'farver', 'munsell', 'rappdirs', 'askpass', 'bit64', 'processx', 'highr', 'xfun', 'yaml', 'bslib', 'fontawesome', 'htmltools', 'tinytex', 'backports', 'glue', 'lifecycle', 'memoise', 'blob', 'tidyselect', 'vctrs', 'data.table', 'gtable', 'isoband', 'mgcv', 'scales', 'gargle', 'cellranger', 'curl', 'ids', 'rematch2', 'mime', 'openssl', 'timechange', 'fansi', 'utf8', 'systemfonts', 'textshaping', 'vroom', 'tzdb', 'progress', 'callr', 'fs', 'knitr', 'rmarkdown', 'selectr', 'stringi', 'broom', 'conflicted', 'cli', 'dbplyr', 'dplyr', 'dtplyr', 'forcats', 'ggplot2', 'googledrive', 'googlesheets4', 'haven', 'hms', 'httr', 'jsonlite', 'lubridate', 'magrittr', 'modelr', 'pillar', 'purrr', 'ragg', 'readr', 'readxl', 'reprex', 'rlang', 'rvest', 'stringr', 'tibble', 'tidyr', 'xml2'\n",
      "\n",
      "\n",
      "Warning message:\n",
      "\"unable to access index for repository https://cran.r-project.org/bin/windows/contrib/3.6:\n",
      "  cannot open URL 'https://cran.r-project.org/bin/windows/contrib/3.6/PACKAGES'\"\n",
      "Packages which are only available in source form, and may need\n",
      "  compilation of C/C++/Fortran: 'fastmap' 'colorspace' 'sys' 'bit' 'ps'\n",
      "  'sass' 'cachem' 'nlme' 'farver' 'rappdirs' 'askpass' 'bit64'\n",
      "  'processx' 'xfun' 'yaml' 'htmltools' 'backports' 'glue' 'tidyselect'\n",
      "  'vctrs' 'data.table' 'isoband' 'mgcv' 'scales' 'curl' 'mime'\n",
      "  'openssl' 'timechange' 'fansi' 'utf8' 'systemfonts' 'textshaping'\n",
      "  'vroom' 'tzdb' 'fs' 'stringi' 'cli' 'dplyr' 'haven' 'jsonlite'\n",
      "  'lubridate' 'magrittr' 'purrr' 'ragg' 'readr' 'readxl' 'rlang'\n",
      "  'tibble' 'tidyr' 'xml2'\n",
      "\n"
     ]
    },
    {
     "name": "stdout",
     "output_type": "stream",
     "text": [
      "  These will not be installed\n"
     ]
    },
    {
     "name": "stderr",
     "output_type": "stream",
     "text": [
      "installing the source packages 'munsell', 'highr', 'bslib', 'fontawesome', 'tinytex', 'lifecycle', 'memoise', 'blob', 'gtable', 'gargle', 'cellranger', 'ids', 'rematch2', 'progress', 'callr', 'knitr', 'rmarkdown', 'selectr', 'broom', 'conflicted', 'dbplyr', 'dtplyr', 'forcats', 'ggplot2', 'googledrive', 'googlesheets4', 'hms', 'httr', 'modelr', 'pillar', 'reprex', 'rvest', 'stringr', 'tidyverse'\n",
      "\n",
      "\n",
      "Warning message in install.packages(\"tidyverse\"):\n",
      "\"installation of package 'munsell' had non-zero exit status\"\n",
      "Warning message in install.packages(\"tidyverse\"):\n",
      "\"installation of package 'highr' had non-zero exit status\"\n",
      "Warning message in install.packages(\"tidyverse\"):\n",
      "\"installation of package 'fontawesome' had non-zero exit status\"\n",
      "Warning message in install.packages(\"tidyverse\"):\n",
      "\"installation of package 'tinytex' had non-zero exit status\"\n",
      "Warning message in install.packages(\"tidyverse\"):\n",
      "\"installation of package 'lifecycle' had non-zero exit status\"\n",
      "Warning message in install.packages(\"tidyverse\"):\n",
      "\"installation of package 'memoise' had non-zero exit status\"\n",
      "Warning message in install.packages(\"tidyverse\"):\n",
      "\"installation of package 'blob' had non-zero exit status\"\n",
      "Warning message in install.packages(\"tidyverse\"):\n",
      "\"installation of package 'cellranger' had non-zero exit status\"\n",
      "Warning message in install.packages(\"tidyverse\"):\n",
      "\"installation of package 'ids' had non-zero exit status\"\n",
      "Warning message in install.packages(\"tidyverse\"):\n",
      "\"installation of package 'rematch2' had non-zero exit status\"\n",
      "Warning message in install.packages(\"tidyverse\"):\n",
      "\"installation of package 'callr' had non-zero exit status\"\n",
      "Warning message in install.packages(\"tidyverse\"):\n",
      "\"installation of package 'httr' had non-zero exit status\"\n",
      "Warning message in install.packages(\"tidyverse\"):\n",
      "\"installation of package 'bslib' had non-zero exit status\"\n",
      "Warning message in install.packages(\"tidyverse\"):\n",
      "\"installation of package 'gtable' had non-zero exit status\"\n",
      "Warning message in install.packages(\"tidyverse\"):\n",
      "\"installation of package 'gargle' had non-zero exit status\"\n",
      "Warning message in install.packages(\"tidyverse\"):\n",
      "\"installation of package 'knitr' had non-zero exit status\"\n",
      "Warning message in install.packages(\"tidyverse\"):\n",
      "\"installation of package 'conflicted' had non-zero exit status\"\n",
      "Warning message in install.packages(\"tidyverse\"):\n",
      "\"installation of package 'dtplyr' had non-zero exit status\"\n",
      "Warning message in install.packages(\"tidyverse\"):\n",
      "\"installation of package 'forcats' had non-zero exit status\"\n",
      "Warning message in install.packages(\"tidyverse\"):\n",
      "\"installation of package 'hms' had non-zero exit status\"\n",
      "Warning message in install.packages(\"tidyverse\"):\n",
      "\"installation of package 'pillar' had non-zero exit status\"\n",
      "Warning message in install.packages(\"tidyverse\"):\n",
      "\"installation of package 'stringr' had non-zero exit status\"\n",
      "Warning message in install.packages(\"tidyverse\"):\n",
      "\"installation of package 'progress' had non-zero exit status\"\n",
      "Warning message in install.packages(\"tidyverse\"):\n",
      "\"installation of package 'rmarkdown' had non-zero exit status\"\n",
      "Warning message in install.packages(\"tidyverse\"):\n",
      "\"installation of package 'selectr' had non-zero exit status\"\n",
      "Warning message in install.packages(\"tidyverse\"):\n",
      "\"installation of package 'broom' had non-zero exit status\"\n",
      "Warning message in install.packages(\"tidyverse\"):\n",
      "\"installation of package 'dbplyr' had non-zero exit status\"\n",
      "Warning message in install.packages(\"tidyverse\"):\n",
      "\"installation of package 'ggplot2' had non-zero exit status\"\n",
      "Warning message in install.packages(\"tidyverse\"):\n",
      "\"installation of package 'googledrive' had non-zero exit status\"\n",
      "Warning message in install.packages(\"tidyverse\"):\n",
      "\"installation of package 'googlesheets4' had non-zero exit status\"\n",
      "Warning message in install.packages(\"tidyverse\"):\n",
      "\"installation of package 'modelr' had non-zero exit status\"\n",
      "Warning message in install.packages(\"tidyverse\"):\n",
      "\"installation of package 'reprex' had non-zero exit status\"\n",
      "Warning message in install.packages(\"tidyverse\"):\n",
      "\"installation of package 'rvest' had non-zero exit status\"\n",
      "Warning message in install.packages(\"tidyverse\"):\n",
      "\"installation of package 'tidyverse' had non-zero exit status\"\n"
     ]
    },
    {
     "ename": "ERROR",
     "evalue": "Error in !install.packages(\"tidyverse\"): invalid argument type\n",
     "output_type": "error",
     "traceback": [
      "Error in !install.packages(\"tidyverse\"): invalid argument type\nTraceback:\n"
     ]
    }
   ],
   "source": [
    "!install.packages(\"tidyverse\")\n"
   ]
  },
  {
   "cell_type": "code",
   "execution_count": null,
   "id": "9e555905",
   "metadata": {
    "vscode": {
     "languageId": "r"
    }
   },
   "outputs": [],
   "source": [
    "# Read the CSV files\n",
    "df_Departures <- read_csv(\"data/International_Report_Departures.csv\")\n",
    "df_Passengers <- read_csv(\"data/International_Report_Passengers.csv\")\n",
    "\n",
    "# Display the dataframes\n",
    "print(df_Departures)\n",
    "print(df_Passengers)\n",
    "\n",
    "# Check for null values\n",
    "sum(is.na(df_Departures))\n",
    "df_Departures <- drop_na(df_Departures)\n",
    "sum(is.na(df_Departures))\n",
    "\n",
    "sum(is.na(df_Passengers))\n",
    "df_Passengers <- drop_na(df_Passengers)\n",
    "sum(is.na(df_Passengers))\n",
    "\n",
    "# Check for duplicates\n",
    "sum(duplicated(df_Departures))\n",
    "sum(duplicated(df_Passengers))\n",
    "\n",
    "# Summary of the dataframes\n",
    "summary(df_Departures)\n",
    "summary(df_Passengers)\n",
    "\n",
    "# Concatenate both datasets\n",
    "full_data <- bind_rows(df_Departures, df_Passengers)\n",
    "print(tail(full_data, 10))\n",
    "\n",
    "# Save the concatenated data to a CSV file\n",
    "# write_csv(full_data, 'data/data.csv')"
   ]
  },
  {
   "cell_type": "code",
   "execution_count": null,
   "id": "edafbd7e",
   "metadata": {
    "vscode": {
     "languageId": "r"
    }
   },
   "outputs": [],
   "source": []
  },
  {
   "cell_type": "code",
   "execution_count": null,
   "id": "7defc87c",
   "metadata": {
    "vscode": {
     "languageId": "r"
    }
   },
   "outputs": [],
   "source": []
  },
  {
   "cell_type": "code",
   "execution_count": null,
   "id": "3fa51292-40f2-4aa2-aeeb-1853d9223b52",
   "metadata": {
    "vscode": {
     "languageId": "r"
    }
   },
   "outputs": [],
   "source": [
    "# Visualizations\n",
    "ggplot(full_data, aes(x = type)) +\n",
    "  geom_bar(fill = \"deepskyblue\") +\n",
    "  ggtitle(\"Distribution Of Type\") +\n",
    "  theme(axis.text.x = element_text(angle = 60, hjust = 1)) +\n",
    "  theme_minimal()\n",
    "\n",
    "ggplot(full_data, aes(x = carriergroup)) +\n",
    "  geom_bar(fill = \"orange\") +\n",
    "  ggtitle(\"Distribution Of CarrierGroup\") +\n",
    "  theme(axis.text.x = element_text(angle = 45, hjust = 1)) +\n",
    "  theme_minimal()\n",
    "\n",
    "ggplot(full_data, aes(x = Year, y = Total)) +\n",
    "  geom_point(color = \"deepskyblue\") +\n",
    "  ggtitle(\"Total Flights by Year\") +\n",
    "  theme(axis.text.x = element_text(angle = 45, hjust = 1)) +\n",
    "  theme_minimal()\n",
    "\n",
    "ggplot(full_data, aes(x = Year, y = Total, color = carriergroup)) +\n",
    "  geom_point() +\n",
    "  ggtitle(\"Total Flights by Year\") +\n",
    "  theme(axis.text.x = element_text(angle = 45, hjust = 1)) +\n",
    "  theme_minimal()\n",
    "\n",
    "ggplot(full_data, aes(x = Year, y = Total, fill = carriergroup)) +\n",
    "  geom_bar(stat = \"identity\", position = \"dodge\") +\n",
    "  ggtitle(\"Total Flights by Year\") +\n",
    "  theme(axis.text.x = element_text(angle = 45, hjust = 1)) +\n",
    "  theme_minimal()\n",
    "\n",
    "ggplot(full_data, aes(x = Year, y = Total, fill = type)) +\n",
    "  geom_bar(stat = \"identity\", position = \"dodge\", color = \"lightblue\") +\n",
    "  ggtitle(\"Total Flights by Year\") +\n",
    "  theme(axis.text.x = element_text(angle = 45, hjust = 1)) +\n",
    "  theme_minimal()\n",
    "\n",
    "ggplot(full_data) +\n",
    "  geom_line(aes(x = Year, y = Scheduled, color = \"Scheduled Flights\")) +\n",
    "  geom_line(aes(x = Year, y = Charter, color = \"Chartered Flights\")) +\n",
    "  scale_color_manual(values = c(\"Scheduled Flights\" = \"blue\", \"Chartered Flights\" = \"red\")) +\n",
    "  ggtitle(\"Total Flights per Year\") +\n",
    "  theme(axis.text.x = element_text(angle = 45, hjust = 1)) +\n",
    "  theme_minimal() +\n",
    "  labs(color = \"\")\n",
    "\n",
    "boxplot1 <- ggplot(full_data, aes(x = \"\", y = usg_wac, fill = \"red\")) +\n",
    "  geom_boxplot() +\n",
    "  ggtitle(\"BoxPlot For usg_wac\") +\n",
    "  theme(axis.text.x = element_text(angle = 45, hjust = 1)) +\n",
    "  theme_minimal()\n",
    "\n",
    "boxplot2 <- ggplot(full_data, aes(x = \"\", y = fg_wac, fill = \"green\")) +\n",
    "  geom_boxplot() +\n",
    "  ggtitle(\"BoxPlot For fg_wac\") +\n",
    "  theme(axis.text.x = element_text(angle = 45, hjust = 1)) +\n",
    "  theme_minimal()\n",
    "\n",
    "boxplot3 <- ggplot(full_data, aes(x = \"\", y = Charter, fill = \"black\")) +\n",
    "  geom_boxplot() +\n",
    "  ggtitle(\"BoxPlot For Charter\") +\n",
    "  theme(axis.text.x = element_text(angle = 45, hjust = 1)) +\n",
    "  theme_minimal()\n",
    "\n",
    "boxplot4 <- ggplot(full_data, aes(x = \"\", y = Total, fill = \"yellow\")) +\n",
    "  geom_boxplot() +\n",
    "  ggtitle(\"BoxPlot For Total\") +\n",
    "  theme(axis.text.x = element_text(angle = 45, hjust = 1)) +\n",
    "  theme_minimal()\n",
    "\n",
    "grid.arrange(boxplot1, boxplot2, boxplot3, boxplot4, ncol = 2)\n",
    "\n",
    "# Correlation matrix\n",
    "numerical_data <- full_data %>% select(where(is.numeric))\n",
    "correlation_matrix <- cor(numerical_data, use = \"complete.obs\")\n",
    "\n",
    "ggplot(data = as.data.frame(as.table(correlation_matrix)), aes(Var1, Var2, fill = Freq)) +\n",
    "  geom_tile() +\n",
    "  scale_fill_gradient2(low = \"white\", high = \"blue\", mid = \"skyblue\", midpoint = 0.5, limit = c(min(correlation_matrix), max(correlation_matrix))) +\n",
    "  geom_text(aes(Var1, Var2, label = round(Freq, 2)), color = \"black\", size = 4) +\n",
    "  theme_minimal() +\n",
    "  ggtitle(\"Correlation Matrix\") +\n",
    "  theme(axis.text.x = element_text(angle = 45, hjust = 1))\n"
   ]
  },
  {
   "cell_type": "code",
   "execution_count": null,
   "id": "78278473-8aff-4ded-b1a9-9e8d296eda57",
   "metadata": {
    "vscode": {
     "languageId": "r"
    }
   },
   "outputs": [],
   "source": []
  },
  {
   "cell_type": "code",
   "execution_count": null,
   "id": "c0cad2c9-239f-4d22-bd7f-db4f26e0faa2",
   "metadata": {
    "vscode": {
     "languageId": "r"
    }
   },
   "outputs": [],
   "source": []
  }
 ],
 "metadata": {
  "kernelspec": {
   "display_name": "R",
   "language": "R",
   "name": "ir"
  },
  "language_info": {
   "codemirror_mode": "r",
   "file_extension": ".r",
   "mimetype": "text/x-r-source",
   "name": "R",
   "pygments_lexer": "r",
   "version": "3.6.1"
  }
 },
 "nbformat": 4,
 "nbformat_minor": 5
}
